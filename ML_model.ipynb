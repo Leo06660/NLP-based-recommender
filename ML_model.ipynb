{
 "cells": [
  {
   "cell_type": "code",
   "execution_count": 2,
   "metadata": {},
   "outputs": [],
   "source": [
    "from sklearn.linear_model import LogisticRegression\n",
    "from sklearn.discriminant_analysis import LinearDiscriminantAnalysis\n",
    "from sklearn.neighbors import KNeighborsClassifier\n",
    "from sklearn.tree import DecisionTreeClassifier\n",
    "from sklearn.ensemble import RandomForestClassifier\n",
    "from sklearn.naive_bayes import GaussianNB\n",
    "from sklearn.svm import SVC\n",
    "from xgboost.sklearn import XGBClassifier\n",
    "from sklearn.dummy import DummyClassifier\n",
    "from sklearn.neural_network import MLPClassifier\n",
    "# from keras.models import Sequential\n",
    "# from keras.layers import Dense"
   ]
  },
  {
   "cell_type": "code",
   "execution_count": 3,
   "metadata": {},
   "outputs": [],
   "source": [
    "from sklearn.model_selection import StratifiedKFold\n",
    "from sklearn.model_selection import StratifiedShuffleSplit\n",
    "from sklearn.model_selection import GridSearchCV\n",
    "from sklearn.model_selection import cross_val_score\n",
    "from sklearn.model_selection import LeaveOneOut\n",
    "from sklearn.pipeline import make_pipeline\n",
    "from sklearn.preprocessing import StandardScaler\n",
    "from sklearn.metrics import confusion_matrix"
   ]
  },
  {
   "cell_type": "code",
   "execution_count": 4,
   "metadata": {},
   "outputs": [],
   "source": [
    "import numpy as np\n",
    "import re\n",
    "import pandas as pd\n",
    "import matplotlib.pyplot as plt\n",
    "import string"
   ]
  },
  {
   "cell_type": "markdown",
   "metadata": {},
   "source": [
    "#### import the Comedians vector"
   ]
  },
  {
   "cell_type": "code",
   "execution_count": 5,
   "metadata": {},
   "outputs": [],
   "source": [
    "def normalize_text(text):\n",
    "    # Lowercase every words\n",
    "    text = text.lower()\n",
    "    # Get rid of the punctuations\n",
    "    text = re.sub('[%s]' % re.escape(string.punctuation), '', text)\n",
    "    # Get rid of these specific punctuations\n",
    "    text = re.sub('[‘’“”…]', '', text)\n",
    "    # Get rid of '\\n'\n",
    "    text = re.sub('\\n', '', text)\n",
    "    return text"
   ]
  },
  {
   "cell_type": "code",
   "execution_count": 6,
   "metadata": {},
   "outputs": [],
   "source": [
    "comedians_vector ={'bill burr': [0.06870229, 0.19083969, 0.40458015, 0.33587786],\n",
    "        'jim jefferies': [0.05806452, 0.4       , 0.18064516, 0.36129032],\n",
    "        'dave chappelle': [0.19369369, 0.33333333, 0.15765766, 0.31531532],\n",
    "        'andy woodhull': [0.        , 0.2962963 , 0.07407407, 0.62962963],\n",
    "        'ramy youssef': [0.        , 0.58974359, 0.30769231, 0.1025641 ],\n",
    "        'chris rock': [0.        , 0.02564103, 0.25641026, 0.71794872],\n",
    "        'jack whitehall': [0.      , 0.28125 , 0.046875, 0.671875],\n",
    "        'vir das': [0.        , 0.11111111, 0.33333333, 0.55555556],\n",
    "        'mark normand': [0.        , 0.06382979, 0.5106383 , 0.42553191],\n",
    "        'bert kreischer': [0.        , 0.67142857, 0.05714286, 0.27142857],\n",
    "        \"chris d'elia\": [0.        , 0.21212121, 0.42424242, 0.36363636],\n",
    "        'jimmy o. yang': [0.        , 0.32075472, 0.01886792, 0.66037736],\n",
    "        'hannah gadsby': [0.        , 0.14754098, 0.2295082 , 0.62295082],\n",
    "        'joe rogan': [0.        , 0.11267606, 0.54929577, 0.33802817],\n",
    "        'marc maron': [0.        , 0.23404255, 0.63829787, 0.12765957],\n",
    "        'whitney cummings': [0.        , 0.14285714, 0.5952381 , 0.26190476],\n",
    "        'aziz ansari': [0.        , 0.33898305, 0.3220339 , 0.33898305],\n",
    "        'neal brennan': [0.        , 0.29508197, 0.29508197, 0.40983607],\n",
    "        'george lopez': [0.        , 0.07142857, 0.42857143, 0.5       ],\n",
    "        'kenny sebastian': [0. , 0.3, 0.3, 0.4],\n",
    "        'ronny chieng': [0.      , 0.078125, 0.03125 , 0.890625],\n",
    "        'tom segura': [0.        , 0.46478873, 0.40140845, 0.13380282],\n",
    "        'iliza shlesinger': [0.        , 0.14893617, 0.54609929, 0.30496454],\n",
    "        'pete davidson': [0.        , 0.55172414, 0.27586207, 0.17241379],\n",
    "        'urzila carlson': [0.        , 0.11111111, 0.75      , 0.13888889],\n",
    "        'trevor noah': [0.        , 0.46153846, 0.15384615, 0.38461538],\n",
    "        'sebastian maniscalco': [0.      , 0.328125, 0.15625 , 0.515625],\n",
    "        'patton oswalt': [0.        , 0.40909091, 0.25      , 0.34090909],\n",
    "        'kevin hart': [0.        , 0.35227273, 0.29545455, 0.35227273],\n",
    "        'tiffany haddish': [0.        , 0.29166667, 0.08333333, 0.625     ],\n",
    "        'roy wood jr.': [0.        , 0.04651163, 0.10465116, 0.84883721],\n",
    "        'michael mcintyre': [0.        , 0.22222222, 0.26666667, 0.51111111],\n",
    "        'amy schumer': [0.        , 0.43283582, 0.37313433, 0.19402985],\n",
    "        'arsenio hall': [0.        , 0.35483871, 0.16129032, 0.48387097],\n",
    "        'jo koy': [0.        , 0.41666667, 0.14285714, 0.44047619],\n",
    "        'jerry seinfeld': [0.        , 0.01351351, 0.31081081, 0.67567568],\n",
    "        'michelle wolf': [0.        , 0.01724138, 0.5       , 0.48275862],\n",
    "        'eric andre': [0.        , 0.11764706, 0.01960784, 0.8627451 ],\n",
    "        'hasan minhaj': [0.        , 0.16129032, 0.0483871 , 0.79032258],\n",
    "        'russell peters': [0.        , 0.24561404, 0.33333333, 0.42105263]}"
   ]
  },
  {
   "cell_type": "code",
   "execution_count": 7,
   "metadata": {},
   "outputs": [],
   "source": [
    "#get the comedians type\n",
    "comedians_type = {}\n",
    "for key,value in comedians_vector.items():\n",
    "    for i in range(4):\n",
    "        if max(value) == value[i]:\n",
    "            comedians_type[key] = i"
   ]
  },
  {
   "cell_type": "markdown",
   "metadata": {},
   "source": [
    "#### get the useful user_comedian_matrix"
   ]
  },
  {
   "cell_type": "code",
   "execution_count": 8,
   "metadata": {},
   "outputs": [],
   "source": [
    "user_comedian_matrix = pd.read_pickle('./user_comedian_matrix_OriginalPolarity.pkl')\n",
    "user_comedian_matrix.columns = map(str.lower,user_comedian_matrix.columns)\n",
    "user_comedian_matrix.index = map(str.lower,user_comedian_matrix.index)"
   ]
  },
  {
   "cell_type": "markdown",
   "metadata": {},
   "source": [
    "#### get user vector"
   ]
  },
  {
   "cell_type": "code",
   "execution_count": 9,
   "metadata": {},
   "outputs": [],
   "source": [
    "#get the compplete user_comedian_matrix\n",
    "user_comedian_matrix_completion = pd.read_csv('final_user_comdeian.csv')\n",
    "user_comedian_matrix_completion = user_comedian_matrix_completion.rename(columns={\"Unnamed: 0\":\"User\"})\n",
    "user_comedian_matrix_completion.set_index([\"User\"], inplace=True)"
   ]
  },
  {
   "cell_type": "code",
   "execution_count": 10,
   "metadata": {},
   "outputs": [],
   "source": [
    "user_vector = {}\n",
    "for i in range(len(user_comedian_matrix_completion)):\n",
    "    temp_name = (user_comedian_matrix_completion.index)[i].lower()\n",
    "    user_vector[temp_name] = [0,0,0,0]\n",
    "    num_list = [0,0,0,0]\n",
    "    for j in range(user_comedian_matrix_completion.shape[1]):\n",
    "        temp_com_name = list(user_comedian_matrix_completion)[j].lower()\n",
    "        if temp_com_name in comedians_vector:\n",
    "            temp_index = comedians_type[temp_com_name]\n",
    "            user_vector[temp_name][temp_index] += user_comedian_matrix_completion.iloc[i,j]\n",
    "            num_list[temp_index] += 1\n",
    "    for k in range(4):\n",
    "        if  num_list[k] != 0:\n",
    "            user_vector[temp_name][k] /= num_list[k]"
   ]
  },
  {
   "cell_type": "markdown",
   "metadata": {},
   "source": [
    "#### get the train set and test set"
   ]
  },
  {
   "cell_type": "code",
   "execution_count": 11,
   "metadata": {},
   "outputs": [],
   "source": [
    "# Training set\n",
    "X_train_df = pd.read_pickle('X_train.pkl')\n",
    "Y_train_df = pd.read_pickle('Y_train.pkl')\n",
    "train_set = pd.concat([X_train_df, Y_train_df], axis=1)\n",
    "train_set.Name = train_set.Name.apply(normalize_text)\n",
    "train_set.Comedian = train_set.Comedian.apply(normalize_text)"
   ]
  },
  {
   "cell_type": "code",
   "execution_count": 14,
   "metadata": {},
   "outputs": [],
   "source": [
    "# Testing set\n",
    "X_test_df = pd.read_pickle('X_test.pkl')\n",
    "Y_test_df = pd.read_pickle('Y_test.pkl')\n",
    "test_set = pd.concat([X_test_df, Y_test_df], axis=1)\n",
    "test_set.Name = test_set.Name.apply(normalize_text)\n",
    "test_set.Comedian = test_set.Comedian.apply(normalize_text)"
   ]
  },
  {
   "cell_type": "code",
   "execution_count": 15,
   "metadata": {},
   "outputs": [
    {
     "data": {
      "text/html": [
       "<div>\n",
       "<style scoped>\n",
       "    .dataframe tbody tr th:only-of-type {\n",
       "        vertical-align: middle;\n",
       "    }\n",
       "\n",
       "    .dataframe tbody tr th {\n",
       "        vertical-align: top;\n",
       "    }\n",
       "\n",
       "    .dataframe thead th {\n",
       "        text-align: right;\n",
       "    }\n",
       "</style>\n",
       "<table border=\"1\" class=\"dataframe\">\n",
       "  <thead>\n",
       "    <tr style=\"text-align: right;\">\n",
       "      <th></th>\n",
       "      <th>0</th>\n",
       "      <th>1</th>\n",
       "      <th>2</th>\n",
       "      <th>3</th>\n",
       "    </tr>\n",
       "    <tr>\n",
       "      <th>index</th>\n",
       "      <th></th>\n",
       "      <th></th>\n",
       "      <th></th>\n",
       "      <th></th>\n",
       "    </tr>\n",
       "  </thead>\n",
       "  <tbody>\n",
       "    <tr>\n",
       "      <th>taymaa a</th>\n",
       "      <td>0.0</td>\n",
       "      <td>0.643921</td>\n",
       "      <td>0.660017</td>\n",
       "      <td>0.635763</td>\n",
       "    </tr>\n",
       "    <tr>\n",
       "      <th>juman b</th>\n",
       "      <td>0.0</td>\n",
       "      <td>0.772967</td>\n",
       "      <td>0.792289</td>\n",
       "      <td>0.763174</td>\n",
       "    </tr>\n",
       "    <tr>\n",
       "      <th>sofya andrei</th>\n",
       "      <td>0.0</td>\n",
       "      <td>0.626164</td>\n",
       "      <td>0.641816</td>\n",
       "      <td>0.618230</td>\n",
       "    </tr>\n",
       "    <tr>\n",
       "      <th>blaise tangney</th>\n",
       "      <td>0.0</td>\n",
       "      <td>0.584958</td>\n",
       "      <td>0.599580</td>\n",
       "      <td>0.577546</td>\n",
       "    </tr>\n",
       "    <tr>\n",
       "      <th>liban wkb</th>\n",
       "      <td>0.0</td>\n",
       "      <td>0.634688</td>\n",
       "      <td>0.650553</td>\n",
       "      <td>0.626646</td>\n",
       "    </tr>\n",
       "  </tbody>\n",
       "</table>\n",
       "</div>"
      ],
      "text/plain": [
       "                  0         1         2         3\n",
       "index                                            \n",
       "taymaa a        0.0  0.643921  0.660017  0.635763\n",
       "juman b         0.0  0.772967  0.792289  0.763174\n",
       "sofya andrei    0.0  0.626164  0.641816  0.618230\n",
       "blaise tangney  0.0  0.584958  0.599580  0.577546\n",
       "liban wkb       0.0  0.634688  0.650553  0.626646"
      ]
     },
     "execution_count": 15,
     "metadata": {},
     "output_type": "execute_result"
    }
   ],
   "source": [
    "user_vector\n",
    "users = pd.DataFrame(user_vector).T.reset_index()\n",
    "users.index = users[\"index\"].apply(normalize_text)\n",
    "users = users.drop(\"index\",axis = 1)\n",
    "users.head()"
   ]
  },
  {
   "cell_type": "code",
   "execution_count": 16,
   "metadata": {},
   "outputs": [
    {
     "data": {
      "text/html": [
       "<div>\n",
       "<style scoped>\n",
       "    .dataframe tbody tr th:only-of-type {\n",
       "        vertical-align: middle;\n",
       "    }\n",
       "\n",
       "    .dataframe tbody tr th {\n",
       "        vertical-align: top;\n",
       "    }\n",
       "\n",
       "    .dataframe thead th {\n",
       "        text-align: right;\n",
       "    }\n",
       "</style>\n",
       "<table border=\"1\" class=\"dataframe\">\n",
       "  <thead>\n",
       "    <tr style=\"text-align: right;\">\n",
       "      <th></th>\n",
       "      <th>0</th>\n",
       "      <th>1</th>\n",
       "      <th>2</th>\n",
       "      <th>3</th>\n",
       "    </tr>\n",
       "    <tr>\n",
       "      <th>index</th>\n",
       "      <th></th>\n",
       "      <th></th>\n",
       "      <th></th>\n",
       "      <th></th>\n",
       "    </tr>\n",
       "  </thead>\n",
       "  <tbody>\n",
       "    <tr>\n",
       "      <th>bill burr</th>\n",
       "      <td>0.068702</td>\n",
       "      <td>0.190840</td>\n",
       "      <td>0.404580</td>\n",
       "      <td>0.335878</td>\n",
       "    </tr>\n",
       "    <tr>\n",
       "      <th>jim jefferies</th>\n",
       "      <td>0.058065</td>\n",
       "      <td>0.400000</td>\n",
       "      <td>0.180645</td>\n",
       "      <td>0.361290</td>\n",
       "    </tr>\n",
       "    <tr>\n",
       "      <th>dave chappelle</th>\n",
       "      <td>0.193694</td>\n",
       "      <td>0.333333</td>\n",
       "      <td>0.157658</td>\n",
       "      <td>0.315315</td>\n",
       "    </tr>\n",
       "    <tr>\n",
       "      <th>andy woodhull</th>\n",
       "      <td>0.000000</td>\n",
       "      <td>0.296296</td>\n",
       "      <td>0.074074</td>\n",
       "      <td>0.629630</td>\n",
       "    </tr>\n",
       "    <tr>\n",
       "      <th>ramy youssef</th>\n",
       "      <td>0.000000</td>\n",
       "      <td>0.589744</td>\n",
       "      <td>0.307692</td>\n",
       "      <td>0.102564</td>\n",
       "    </tr>\n",
       "  </tbody>\n",
       "</table>\n",
       "</div>"
      ],
      "text/plain": [
       "                       0         1         2         3\n",
       "index                                                 \n",
       "bill burr       0.068702  0.190840  0.404580  0.335878\n",
       "jim jefferies   0.058065  0.400000  0.180645  0.361290\n",
       "dave chappelle  0.193694  0.333333  0.157658  0.315315\n",
       "andy woodhull   0.000000  0.296296  0.074074  0.629630\n",
       "ramy youssef    0.000000  0.589744  0.307692  0.102564"
      ]
     },
     "execution_count": 16,
     "metadata": {},
     "output_type": "execute_result"
    }
   ],
   "source": [
    "comedians_vector \n",
    "comedians = pd.DataFrame(comedians_vector).T.reset_index()\n",
    "comedians.index = comedians[\"index\"].apply(normalize_text)\n",
    "comedians = comedians.drop(\"index\",axis = 1)\n",
    "comedians.head()"
   ]
  },
  {
   "cell_type": "code",
   "execution_count": 17,
   "metadata": {},
   "outputs": [],
   "source": [
    "# get train_data\n",
    "train_data = pd.DataFrame(columns = [\"prefer1\",\"prefer2\",\"prefer3\",\"prefer4\",\"style1\",\"style2\",\"style3\",\"style4\",\"polarity\"])\n",
    "for i in range(len(train_set)):\n",
    "    temp_com_name = train_set.iloc[i,1]\n",
    "    temp_user_name = train_set.iloc[i,0]\n",
    "    if temp_com_name in comedians.index and temp_user_name in users.index:\n",
    "        temp_com_list = comedians.loc[temp_com_name].values\n",
    "        temp_user_list = users.loc[temp_user_name].values\n",
    "        train_data = train_data.append({\"prefer1\":temp_user_list[0], \"prefer2\":temp_user_list[1],\n",
    "                                        \"prefer3\": temp_user_list[2], \"prefer4\": temp_user_list[3], \n",
    "                                        \"style1\":temp_com_list[0],\"style2\":temp_com_list[1],\n",
    "                                        \"style3\":temp_com_list[2],\"style4\":temp_com_list[3],\n",
    "#                                         \"polarity\":user_comedian_matrix.loc[temp_user_name,temp_com_name]},\n",
    "                                        \"polarity\":train_set.iloc[i,2]},\n",
    "                                       ignore_index=True)"
   ]
  },
  {
   "cell_type": "code",
   "execution_count": 18,
   "metadata": {},
   "outputs": [],
   "source": [
    "#get test data\n",
    "test_data = pd.DataFrame(columns = [\"prefer1\",\"prefer2\",\"prefer3\",\"prefer4\",\"style1\",\"style2\",\"style3\",\"style4\",\"polarity\"])\n",
    "for i in range(len(test_set)):\n",
    "    temp_com_name = test_set.iloc[i,1]\n",
    "    temp_user_name = test_set.iloc[i,0]\n",
    "    if temp_com_name in comedians.index and temp_user_name in users.index:\n",
    "        temp_com_list = comedians.loc[temp_com_name].values\n",
    "        temp_user_list = users.loc[temp_user_name].values\n",
    "        test_data = test_data.append({\"prefer1\":temp_user_list[0], \"prefer2\":temp_user_list[1],\n",
    "                                        \"prefer3\": temp_user_list[2], \"prefer4\": temp_user_list[3], \n",
    "                                        \"style1\":temp_com_list[0],\"style2\":temp_com_list[1],\n",
    "                                        \"style3\":temp_com_list[2],\"style4\":temp_com_list[3],\n",
    "#                                         \"polarity\":user_comedian_matrix.loc[temp_user_name,temp_com_name]},\n",
    "                                        \"polarity\":test_set.iloc[i,2]},\n",
    "                                       ignore_index=True)"
   ]
  },
  {
   "cell_type": "code",
   "execution_count": 21,
   "metadata": {},
   "outputs": [],
   "source": [
    "test_data[\"polarity\"] = test_data[\"polarity\"].apply(lambda x : 1 if x >= 0.5 else 0)\n",
    "train_data[\"polarity\"] = train_data[\"polarity\"].apply(lambda x : 1 if x >= 0.5 else 0)"
   ]
  },
  {
   "cell_type": "code",
   "execution_count": 22,
   "metadata": {},
   "outputs": [],
   "source": [
    "X_train = train_data.iloc[:,0:8]\n",
    "X_test = test_data.iloc[:,0:8]\n",
    "y_train = train_data[\"polarity\"]\n",
    "y_test = test_data[\"polarity\"]"
   ]
  },
  {
   "cell_type": "code",
   "execution_count": 25,
   "metadata": {},
   "outputs": [],
   "source": [
    "models = []\n",
    "models.append(('RD', DummyClassifier(strategy='uniform')))\n",
    "models.append(('LR',make_pipeline(StandardScaler(), LogisticRegression(solver='liblinear'))))\n",
    "models.append(('LDA',LinearDiscriminantAnalysis()))\n",
    "models.append(('KNN',KNeighborsClassifier()))\n",
    "models.append(('DT',DecisionTreeClassifier()))\n",
    "models.append(('RF',RandomForestClassifier()))\n",
    "models.append(('NB',GaussianNB()))\n",
    "models.append(('SVM',make_pipeline(StandardScaler(), SVC(kernel='rbf', gamma='auto'))))\n",
    "models.append(('XGB',make_pipeline(StandardScaler(), XGBClassifier())))\n",
    "models.append(('MLP',MLPClassifier(hidden_layer_sizes=[100,100],activation='logistic')))"
   ]
  },
  {
   "cell_type": "code",
   "execution_count": 26,
   "metadata": {},
   "outputs": [],
   "source": [
    "names = []\n",
    "results = []\n",
    "means = []\n",
    "sdevs = []\n",
    "scoring = 'accuracy'"
   ]
  },
  {
   "cell_type": "code",
   "execution_count": 27,
   "metadata": {},
   "outputs": [
    {
     "name": "stdout",
     "output_type": "stream",
     "text": [
      "RD done.\n",
      "LR done.\n",
      "LDA done.\n",
      "KNN done.\n",
      "DT done.\n",
      "RF done.\n",
      "NB done.\n",
      "SVM done.\n",
      "XGB done.\n",
      "MLP done.\n"
     ]
    }
   ],
   "source": [
    "for name,model in models:\n",
    "    cv_method = StratifiedKFold(n_splits = 30)\n",
    "    cv_results = cross_val_score(model,X_train,y_train,cv=cv_method,scoring=scoring)\n",
    "    results.append(cv_results)\n",
    "    means.append(cv_results.mean())\n",
    "    sdevs.append(cv_results.std())\n",
    "    names.append(name)\n",
    "    print(f\"{name} done.\")"
   ]
  },
  {
   "cell_type": "code",
   "execution_count": 28,
   "metadata": {},
   "outputs": [
    {
     "data": {
      "text/html": [
       "<div>\n",
       "<style scoped>\n",
       "    .dataframe tbody tr th:only-of-type {\n",
       "        vertical-align: middle;\n",
       "    }\n",
       "\n",
       "    .dataframe tbody tr th {\n",
       "        vertical-align: top;\n",
       "    }\n",
       "\n",
       "    .dataframe thead th {\n",
       "        text-align: right;\n",
       "    }\n",
       "</style>\n",
       "<table border=\"1\" class=\"dataframe\">\n",
       "  <thead>\n",
       "    <tr style=\"text-align: right;\">\n",
       "      <th></th>\n",
       "      <th>name</th>\n",
       "      <th>mean accuracy</th>\n",
       "      <th>accuracy std dev</th>\n",
       "    </tr>\n",
       "  </thead>\n",
       "  <tbody>\n",
       "    <tr>\n",
       "      <th>0</th>\n",
       "      <td>RD</td>\n",
       "      <td>0.505579</td>\n",
       "      <td>0.029272</td>\n",
       "    </tr>\n",
       "    <tr>\n",
       "      <th>1</th>\n",
       "      <td>LR</td>\n",
       "      <td>0.707866</td>\n",
       "      <td>0.017250</td>\n",
       "    </tr>\n",
       "    <tr>\n",
       "      <th>2</th>\n",
       "      <td>LDA</td>\n",
       "      <td>0.707867</td>\n",
       "      <td>0.017429</td>\n",
       "    </tr>\n",
       "    <tr>\n",
       "      <th>3</th>\n",
       "      <td>KNN</td>\n",
       "      <td>0.683612</td>\n",
       "      <td>0.023327</td>\n",
       "    </tr>\n",
       "    <tr>\n",
       "      <th>4</th>\n",
       "      <td>DT</td>\n",
       "      <td>0.615960</td>\n",
       "      <td>0.030358</td>\n",
       "    </tr>\n",
       "    <tr>\n",
       "      <th>5</th>\n",
       "      <td>RF</td>\n",
       "      <td>0.640072</td>\n",
       "      <td>0.023506</td>\n",
       "    </tr>\n",
       "    <tr>\n",
       "      <th>6</th>\n",
       "      <td>NB</td>\n",
       "      <td>0.670786</td>\n",
       "      <td>0.030251</td>\n",
       "    </tr>\n",
       "    <tr>\n",
       "      <th>7</th>\n",
       "      <td>SVM</td>\n",
       "      <td>0.706627</td>\n",
       "      <td>0.012711</td>\n",
       "    </tr>\n",
       "    <tr>\n",
       "      <th>8</th>\n",
       "      <td>XGB</td>\n",
       "      <td>0.711450</td>\n",
       "      <td>0.016835</td>\n",
       "    </tr>\n",
       "    <tr>\n",
       "      <th>9</th>\n",
       "      <td>MLP</td>\n",
       "      <td>0.706624</td>\n",
       "      <td>0.016355</td>\n",
       "    </tr>\n",
       "  </tbody>\n",
       "</table>\n",
       "</div>"
      ],
      "text/plain": [
       "  name  mean accuracy  accuracy std dev\n",
       "0   RD       0.505579          0.029272\n",
       "1   LR       0.707866          0.017250\n",
       "2  LDA       0.707867          0.017429\n",
       "3  KNN       0.683612          0.023327\n",
       "4   DT       0.615960          0.030358\n",
       "5   RF       0.640072          0.023506\n",
       "6   NB       0.670786          0.030251\n",
       "7  SVM       0.706627          0.012711\n",
       "8  XGB       0.711450          0.016835\n",
       "9  MLP       0.706624          0.016355"
      ]
     },
     "execution_count": 28,
     "metadata": {},
     "output_type": "execute_result"
    }
   ],
   "source": [
    "df1 = pd.DataFrame()\n",
    "df1['name'] = names\n",
    "df1[f'mean {scoring}'] = means\n",
    "df1[f'{scoring} std dev'] = sdevs\n",
    "df1"
   ]
  },
  {
   "cell_type": "code",
   "execution_count": 29,
   "metadata": {},
   "outputs": [
    {
     "data": {
      "text/plain": [
       "Text(0, 0.5, 'Test accuracy Rate')"
      ]
     },
     "execution_count": 29,
     "metadata": {},
     "output_type": "execute_result"
    },
    {
     "data": {
      "image/png": "[encoded data removed]",
      "text/plain": [
       "<Figure size 720x288 with 1 Axes>"
      ]
     },
     "metadata": {
      "needs_background": "light"
     },
     "output_type": "display_data"
    }
   ],
   "source": [
    "plt.figure(figsize=(10,4))\n",
    "plt.boxplot(results)\n",
    "plt.xticks(range(1,11),names)\n",
    "plt.ylabel(f'Test {scoring} Rate')"
   ]
  },
  {
   "cell_type": "markdown",
   "metadata": {},
   "source": [
    "### t-score evaluation"
   ]
  },
  {
   "cell_type": "code",
   "execution_count": 30,
   "metadata": {},
   "outputs": [],
   "source": [
    "from scipy.stats import ttest_ind as ttest"
   ]
  },
  {
   "cell_type": "code",
   "execution_count": 31,
   "metadata": {},
   "outputs": [
    {
     "data": {
      "text/plain": [
       "array([0.7107438 , 0.73966942, 0.7231405 , 0.7107438 , 0.69834711,\n",
       "       0.69421488, 0.73140496, 0.68595041, 0.73140496, 0.75206612,\n",
       "       0.70247934, 0.7231405 , 0.69008264, 0.71487603, 0.72727273,\n",
       "       0.71487603, 0.68181818, 0.67768595, 0.7107438 , 0.7107438 ,\n",
       "       0.71487603, 0.71487603, 0.69421488, 0.72727273, 0.72727273,\n",
       "       0.7107438 , 0.69834711, 0.70539419, 0.70954357, 0.70954357])"
      ]
     },
     "execution_count": 31,
     "metadata": {},
     "output_type": "execute_result"
    }
   ],
   "source": [
    "best = results[8] #XGB\n",
    "best"
   ]
  },
  {
   "cell_type": "code",
   "execution_count": 32,
   "metadata": {},
   "outputs": [
    {
     "name": "stdout",
     "output_type": "stream",
     "text": [
      "XGB vs. RD: p-value = 32.831192121883134\n",
      "XGB vs. LR: p-value = 0.800619410493323\n",
      "XGB vs. LDA: p-value = 0.7961202854491364\n",
      "XGB vs. KNN: p-value = 5.211061704287136\n",
      "XGB vs. DT: p-value = 14.813421698326604\n",
      "XGB vs. RF: p-value = 13.294115115922919\n",
      "XGB vs. NB: p-value = 6.325253514648788\n",
      "XGB vs. SVM: p-value = 1.2311196224902137\n",
      "XGB vs. MLP: p-value = 1.1072653136814767\n"
     ]
    }
   ],
   "source": [
    "for r, n in zip(results, names):\n",
    "    # The best model\n",
    "    if n == 'XGB':\n",
    "        continue\n",
    "    print(f\"XGB vs. {n}: p-value = {ttest(best, r)[0]}\")"
   ]
  },
  {
   "cell_type": "markdown",
   "metadata": {},
   "source": [
    "## Hyperparameter tuning"
   ]
  },
  {
   "cell_type": "code",
   "execution_count": 33,
   "metadata": {},
   "outputs": [],
   "source": [
    "def evaluate(model, x, y):    \n",
    "     #Predict training set:\n",
    "    y_pred = model.predict(x)\n",
    "        \n",
    "    #Print model report:\n",
    "    df = pd.DataFrame(confusion_matrix(y, y_pred), index=[0, 1], columns=[0, 1])\n",
    "    \n",
    "    tn, fp, fn, tp = confusion_matrix(y, y_pred).ravel()\n",
    "    print(f\"Precision = {tp/(tp+fp):0.3f}\")\n",
    "    print(f\"Recall = {tp/(tp+fn):0.3f}\")\n",
    "    print(f\"Accuracy = {(tn+tp)/len(y)}\")\n",
    "    \n",
    "    return df"
   ]
  },
  {
   "cell_type": "markdown",
   "metadata": {},
   "source": [
    "#### XGB"
   ]
  },
  {
   "cell_type": "code",
   "execution_count": 34,
   "metadata": {},
   "outputs": [],
   "source": [
    "import xgboost as xgb\n",
    "from xgboost.sklearn import XGBClassifier"
   ]
  },
  {
   "cell_type": "code",
   "execution_count": 35,
   "metadata": {},
   "outputs": [],
   "source": [
    "def modelfit(alg, x, y, param = None):\n",
    "    \n",
    "    if param is not None:\n",
    "        grid_search = GridSearchCV(alg, param, scoring='accuracy',cv=None,n_jobs=-1)\n",
    "        result = grid_search.fit(x, y)\n",
    "        best = grid_search.best_estimator_\n",
    "    else:\n",
    "        result = alg.fit(x, y)\n",
    "        best = alg\n",
    "        \n",
    "    return best"
   ]
  },
  {
   "cell_type": "code",
   "execution_count": 36,
   "metadata": {},
   "outputs": [],
   "source": [
    "xgb1 = XGBClassifier(\n",
    " learning_rate =0.01,\n",
    " n_estimators=1000,\n",
    " max_depth=5,\n",
    " min_child_weight=1,\n",
    " gamma=0,\n",
    " subsample=0.8,\n",
    " colsample_bytree=0.8,\n",
    " n_jobs=-1,\n",
    " scale_pos_weight=1,\n",
    " seed=27)\n",
    "model = modelfit(xgb1, X_train, y_train)"
   ]
  },
  {
   "cell_type": "code",
   "execution_count": 37,
   "metadata": {},
   "outputs": [
    {
     "name": "stdout",
     "output_type": "stream",
     "text": [
      "Precision = 0.741\n",
      "Recall = 0.963\n",
      "Accuracy = 0.7413531762436268\n"
     ]
    },
    {
     "data": {
      "text/html": [
       "<div>\n",
       "<style scoped>\n",
       "    .dataframe tbody tr th:only-of-type {\n",
       "        vertical-align: middle;\n",
       "    }\n",
       "\n",
       "    .dataframe tbody tr th {\n",
       "        vertical-align: top;\n",
       "    }\n",
       "\n",
       "    .dataframe thead th {\n",
       "        text-align: right;\n",
       "    }\n",
       "</style>\n",
       "<table border=\"1\" class=\"dataframe\">\n",
       "  <thead>\n",
       "    <tr style=\"text-align: right;\">\n",
       "      <th></th>\n",
       "      <th>0</th>\n",
       "      <th>1</th>\n",
       "    </tr>\n",
       "  </thead>\n",
       "  <tbody>\n",
       "    <tr>\n",
       "      <th>0</th>\n",
       "      <td>528</td>\n",
       "      <td>1693</td>\n",
       "    </tr>\n",
       "    <tr>\n",
       "      <th>1</th>\n",
       "      <td>184</td>\n",
       "      <td>4852</td>\n",
       "    </tr>\n",
       "  </tbody>\n",
       "</table>\n",
       "</div>"
      ],
      "text/plain": [
       "     0     1\n",
       "0  528  1693\n",
       "1  184  4852"
      ]
     },
     "execution_count": 37,
     "metadata": {},
     "output_type": "execute_result"
    }
   ],
   "source": [
    "evaluate(model, X_train, y_train)"
   ]
  },
  {
   "cell_type": "code",
   "execution_count": 38,
   "metadata": {},
   "outputs": [
    {
     "name": "stdout",
     "output_type": "stream",
     "text": [
      "Precision = 0.712\n",
      "Recall = 0.920\n",
      "Accuracy = 0.6837465564738292\n"
     ]
    },
    {
     "data": {
      "text/html": [
       "<div>\n",
       "<style scoped>\n",
       "    .dataframe tbody tr th:only-of-type {\n",
       "        vertical-align: middle;\n",
       "    }\n",
       "\n",
       "    .dataframe tbody tr th {\n",
       "        vertical-align: top;\n",
       "    }\n",
       "\n",
       "    .dataframe thead th {\n",
       "        text-align: right;\n",
       "    }\n",
       "</style>\n",
       "<table border=\"1\" class=\"dataframe\">\n",
       "  <thead>\n",
       "    <tr style=\"text-align: right;\">\n",
       "      <th></th>\n",
       "      <th>0</th>\n",
       "      <th>1</th>\n",
       "    </tr>\n",
       "  </thead>\n",
       "  <tbody>\n",
       "    <tr>\n",
       "      <th>0</th>\n",
       "      <td>75</td>\n",
       "      <td>472</td>\n",
       "    </tr>\n",
       "    <tr>\n",
       "      <th>1</th>\n",
       "      <td>102</td>\n",
       "      <td>1166</td>\n",
       "    </tr>\n",
       "  </tbody>\n",
       "</table>\n",
       "</div>"
      ],
      "text/plain": [
       "     0     1\n",
       "0   75   472\n",
       "1  102  1166"
      ]
     },
     "execution_count": 38,
     "metadata": {},
     "output_type": "execute_result"
    }
   ],
   "source": [
    "evaluate(model, X_test, y_test)"
   ]
  },
  {
   "cell_type": "code",
   "execution_count": 46,
   "metadata": {},
   "outputs": [],
   "source": [
    "xgb_pred = model.predict(X_test)\n",
    "xgb_pred_pd = pd.DataFrame(xgb_pred)\n",
    "xgb_pred_pd.to_csv(\"final_ML_prediction.csv\") "
   ]
  },
  {
   "cell_type": "code",
   "execution_count": 41,
   "metadata": {},
   "outputs": [],
   "source": [
    "grid_param = {\n",
    " 'gamma':[i/10.0 for i in range(0,5)],    \n",
    " 'n_estimators': [int(x) for x in np.linspace(start = 200, stop = 2000, num = 10)],\n",
    " 'reg_alpha':[0, 0.001, 0.005, 0.01, 0.05],\n",
    "#  'max_depth':range(3,10,2),\n",
    "#  'min_child_weight':range(1,6,2),\n",
    "#  'max_depth':[4,5,6],\n",
    "#  'min_child_weight':[4,5,6]\n",
    "}\n",
    "xgb2 = XGBClassifier(\n",
    " learning_rate =0.01,\n",
    " n_estimators=1000,\n",
    " scale_pos_weight=1,\n",
    " n_jobs=-1,\n",
    " seed=27)\n",
    "\n",
    "model2 = modelfit(xgb2, X_train, y_train, grid_param)"
   ]
  },
  {
   "cell_type": "code",
   "execution_count": 42,
   "metadata": {},
   "outputs": [
    {
     "name": "stdout",
     "output_type": "stream",
     "text": [
      "Precision = 0.730\n",
      "Recall = 0.954\n",
      "Accuracy = 0.7231638418079096\n"
     ]
    },
    {
     "data": {
      "text/html": [
       "<div>\n",
       "<style scoped>\n",
       "    .dataframe tbody tr th:only-of-type {\n",
       "        vertical-align: middle;\n",
       "    }\n",
       "\n",
       "    .dataframe tbody tr th {\n",
       "        vertical-align: top;\n",
       "    }\n",
       "\n",
       "    .dataframe thead th {\n",
       "        text-align: right;\n",
       "    }\n",
       "</style>\n",
       "<table border=\"1\" class=\"dataframe\">\n",
       "  <thead>\n",
       "    <tr style=\"text-align: right;\">\n",
       "      <th></th>\n",
       "      <th>0</th>\n",
       "      <th>1</th>\n",
       "    </tr>\n",
       "  </thead>\n",
       "  <tbody>\n",
       "    <tr>\n",
       "      <th>0</th>\n",
       "      <td>446</td>\n",
       "      <td>1775</td>\n",
       "    </tr>\n",
       "    <tr>\n",
       "      <th>1</th>\n",
       "      <td>234</td>\n",
       "      <td>4802</td>\n",
       "    </tr>\n",
       "  </tbody>\n",
       "</table>\n",
       "</div>"
      ],
      "text/plain": [
       "     0     1\n",
       "0  446  1775\n",
       "1  234  4802"
      ]
     },
     "execution_count": 42,
     "metadata": {},
     "output_type": "execute_result"
    }
   ],
   "source": [
    "evaluate(model2, X_train, y_train)"
   ]
  },
  {
   "cell_type": "code",
   "execution_count": 43,
   "metadata": {},
   "outputs": [
    {
     "name": "stdout",
     "output_type": "stream",
     "text": [
      "Precision = 0.708\n",
      "Recall = 0.916\n",
      "Accuracy = 0.6776859504132231\n"
     ]
    },
    {
     "data": {
      "text/html": [
       "<div>\n",
       "<style scoped>\n",
       "    .dataframe tbody tr th:only-of-type {\n",
       "        vertical-align: middle;\n",
       "    }\n",
       "\n",
       "    .dataframe tbody tr th {\n",
       "        vertical-align: top;\n",
       "    }\n",
       "\n",
       "    .dataframe thead th {\n",
       "        text-align: right;\n",
       "    }\n",
       "</style>\n",
       "<table border=\"1\" class=\"dataframe\">\n",
       "  <thead>\n",
       "    <tr style=\"text-align: right;\">\n",
       "      <th></th>\n",
       "      <th>0</th>\n",
       "      <th>1</th>\n",
       "    </tr>\n",
       "  </thead>\n",
       "  <tbody>\n",
       "    <tr>\n",
       "      <th>0</th>\n",
       "      <td>68</td>\n",
       "      <td>479</td>\n",
       "    </tr>\n",
       "    <tr>\n",
       "      <th>1</th>\n",
       "      <td>106</td>\n",
       "      <td>1162</td>\n",
       "    </tr>\n",
       "  </tbody>\n",
       "</table>\n",
       "</div>"
      ],
      "text/plain": [
       "     0     1\n",
       "0   68   479\n",
       "1  106  1162"
      ]
     },
     "execution_count": 43,
     "metadata": {},
     "output_type": "execute_result"
    }
   ],
   "source": [
    "evaluate(model2, X_test, y_test)"
   ]
  },
  {
   "cell_type": "code",
   "execution_count": null,
   "metadata": {},
   "outputs": [],
   "source": []
  }
 ],
 "metadata": {
  "kernelspec": {
   "display_name": "Python 3",
   "language": "python",
   "name": "python3"
  },
  "language_info": {
   "codemirror_mode": {
    "name": "ipython",
    "version": 3
   },
   "file_extension": ".py",
   "mimetype": "text/x-python",
   "name": "python",
   "nbconvert_exporter": "python",
   "pygments_lexer": "ipython3",
   "version": "3.7.1"
  }
 },
 "nbformat": 4,
 "nbformat_minor": 4
}
